{
  "nbformat": 4,
  "nbformat_minor": 0,
  "metadata": {
    "colab": {
      "provenance": [],
      "authorship_tag": "ABX9TyM61jiRqs5RYMRUZy04Y05r",
      "include_colab_link": true
    },
    "kernelspec": {
      "name": "python3",
      "display_name": "Python 3"
    },
    "language_info": {
      "name": "python"
    }
  },
  "cells": [
    {
      "cell_type": "markdown",
      "metadata": {
        "id": "view-in-github",
        "colab_type": "text"
      },
      "source": [
        "<a href=\"https://colab.research.google.com/github/antonium85/crypto-trading-analysis/blob/main/ichimoku_stock_analysis.ipynb\" target=\"_parent\"><img src=\"https://colab.research.google.com/assets/colab-badge.svg\" alt=\"Open In Colab\"/></a>"
      ]
    },
    {
      "cell_type": "code",
      "execution_count": null,
      "metadata": {
        "id": "Qr0pgrpsmP5N"
      },
      "outputs": [],
      "source": [
        "pip install yahoo_fin"
      ]
    },
    {
      "cell_type": "code",
      "source": [
        "pip install ta"
      ],
      "metadata": {
        "id": "XbNmB66Bmk42"
      },
      "execution_count": null,
      "outputs": []
    },
    {
      "cell_type": "code",
      "source": [
        "import pandas as pd\n",
        "import ta\n",
        "from yahoo_fin.stock_info import get_data\n",
        "from datetime import datetime, timedelta\n",
        "\n",
        "end_date = datetime.today() - timedelta(1)\n",
        "start_date = end_date - timedelta(365*10)\n",
        "#print(\"End date = \", end_date.strftime('%d-%m-%Y'))\n",
        "#print(\"Start date = \", start_date.strftime('%d-%m-%Y'))\n",
        "\n",
        "# replace ^FCHI (CAC40) by what you want AMZN, GOOG, META ...\n",
        "df = get_data(\"^FCHI\", start_date=start_date.strftime('%d/%m/%Y'), end_date=end_date.strftime('%d/%m/%Y'), index_as_date = True, interval=\"1d\")\n",
        "\n",
        "del(df['adjclose'])\n",
        "df['close'] = pd.to_numeric(df['close'])\n",
        "df['high'] = pd.to_numeric(df['high'])\n",
        "df['low'] = pd.to_numeric(df['low'])\n",
        "df['open'] = pd.to_numeric(df['open'])\n",
        "\n",
        "df['TENKAN'] = ta.trend.ichimoku_conversion_line(df['high'],df['low'])\n",
        "df['KIJUN'] = ta.trend.ichimoku_base_line(df['high'],df['low'])\n",
        "df['SSA'] = ta.trend.ichimoku_a(df['high'],df['low']).shift(periods=26)\n",
        "df['SSB'] = ta.trend.ichimoku_b(df['high'],df['low']).shift(periods=26)\n",
        "\n",
        "df"
      ],
      "metadata": {
        "id": "Ff8MwTc7mo45"
      },
      "execution_count": null,
      "outputs": []
    },
    {
      "cell_type": "code",
      "source": [
        "import matplotlib\n",
        "print('Last price : ',df['close'].iloc[-1])\n",
        "print('SSA[-1] = ',df['SSA'].iloc[-1])\n",
        "print('SSB[-1] = ',df['SSB'].iloc[-1])\n",
        "\n",
        "#df[['close','SSA','SSB']].iloc[-600:].plot(figsize=(20,10))\n",
        "tmp = df[['close','SSA','SSB','TENKAN','KIJUN']].tail(200)\n",
        "a1 = tmp.plot(figsize=(20,10))\n",
        "a1.fill_between(tmp.index, tmp.SSA, tmp.SSB,color='lightgrey')"
      ],
      "metadata": {
        "id": "Bra0iT21orkx"
      },
      "execution_count": null,
      "outputs": []
    },
    {
      "cell_type": "code",
      "source": [
        "def calcul_value(a,b,c,reverse=False):\n",
        "  #n_value = c + b - a\n",
        "  #v_value = b + b - c\n",
        "  #e_value = b + b - a\n",
        "  #nt_value = c + c - a\n",
        "  values = c+b-a,2*b-c,2*b-a,2*c-a\n",
        "\n",
        "  return sorted(values,reverse=reverse)\n",
        "\n",
        "side = ''\n",
        "\n",
        "dtrend = pd.DataFrame(columns = ['date','trend','peak'])\n",
        "for index, row in df.iterrows():\n",
        "  if row['close'] > row['SSA'] and row['close'] > row['SSB'] and side != 'buy' :#and row['STOCH_RSI'] < 0.8 :\n",
        "    side = 'buy'\n",
        "    \n",
        "    myrow = pd.DataFrame({'date':index,'trend':'up','peak':0},index=[0])\n",
        "    dtrend = pd.concat([dtrend,myrow])\n",
        "  elif row['close'] < row['SSA'] and row['close'] < row['SSB'] and side != 'sell' :#and row['STOCH_RSI'] > 0.2 :\n",
        "    side = 'sell'\n",
        "    peak = 100000\n",
        "\n",
        "    myrow = pd.DataFrame({'date':index,'trend':'down','peak':100000},index=[0])\n",
        "    dtrend = pd.concat([dtrend,myrow])\n",
        "\n",
        "  if side == 'buy'and dtrend['peak'].iloc[-1] < row['high'] :\n",
        "    dtrend.iloc[-1, dtrend.columns.get_loc('peak')] = row['high']\n",
        "    dtrend.iloc[-1, dtrend.columns.get_loc('date')] = index\n",
        "  elif side == 'sell' and dtrend['peak'].iloc[-1] > row['low'] :\n",
        "    dtrend.iloc[-1, dtrend.columns.get_loc('peak')] = row['low']\n",
        "    dtrend.iloc[-1, dtrend.columns.get_loc('date')] = index\n",
        "\n",
        "dtrend = dtrend.set_index(dtrend['date'])\n",
        "dtrend.index = pd.to_datetime(dtrend.index)\n",
        "del(dtrend['date'])\n",
        "\n",
        "#print(dtrend)\n",
        "\n",
        "value = calcul_value(dtrend['peak'].iloc[-4],dtrend['peak'].iloc[-3],dtrend['peak'].iloc[-2])\n",
        "next_side = ''\n",
        "target = df['close'].iloc[-1]\n",
        "stop_loss = df['close'].iloc[-1]\n",
        "\n",
        "if dtrend['trend'].iloc[-2] == 'up':\n",
        "  next_side = 'sell'\n",
        "  result = sorted(value,reverse=True)\n",
        "  value = tuple(result)\n",
        "\n",
        "  for v in value:\n",
        "    if target < v:\n",
        "      continue\n",
        "    else:\n",
        "      target = v\n",
        "      break\n",
        "\n",
        "  stop_loss = max(df['SSA'].iloc[-1],df['SSB'].iloc[-1])\n",
        "\n",
        "elif dtrend['trend'].iloc[-2] == 'down':\n",
        "  next_side = 'buy'\n",
        "  result = sorted(value)\n",
        "  value = tuple(result)\n",
        "\n",
        "  for v in value:\n",
        "    if target > v:\n",
        "      continue\n",
        "    else:\n",
        "      target = v\n",
        "      break\n",
        "\n",
        "  stop_loss = min(df['SSA'].iloc[-1],df['SSB'].iloc[-1])\n",
        "\n",
        "print(next_side)\n",
        "print(value)\n",
        "print('target : ', target)\n",
        "print('stop loss : ', stop_loss)"
      ],
      "metadata": {
        "id": "I5oRQymqpF6-"
      },
      "execution_count": null,
      "outputs": []
    }
  ]
}